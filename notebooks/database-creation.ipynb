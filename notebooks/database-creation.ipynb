{
 "cells": [
  {
   "cell_type": "code",
   "execution_count": 1,
   "id": "fa7ce473-0844-4084-88c6-c768f0b3dff3",
   "metadata": {
    "execution": {
     "iopub.execute_input": "2024-12-17T15:00:03.162036Z",
     "iopub.status.busy": "2024-12-17T15:00:03.161609Z",
     "iopub.status.idle": "2024-12-17T15:00:03.473290Z",
     "shell.execute_reply": "2024-12-17T15:00:03.473014Z",
     "shell.execute_reply.started": "2024-12-17T15:00:03.162015Z"
    }
   },
   "outputs": [],
   "source": [
    "import sqlite3\n",
    "import pandas as pd\n",
    "from pathlib import Path"
   ]
  },
  {
   "cell_type": "code",
   "execution_count": 2,
   "id": "474e0dce-a1c7-4369-9c23-03ef5ed63514",
   "metadata": {
    "execution": {
     "iopub.execute_input": "2024-12-17T15:00:03.473865Z",
     "iopub.status.busy": "2024-12-17T15:00:03.473756Z",
     "iopub.status.idle": "2024-12-17T15:00:03.476763Z",
     "shell.execute_reply": "2024-12-17T15:00:03.476281Z",
     "shell.execute_reply.started": "2024-12-17T15:00:03.473854Z"
    }
   },
   "outputs": [],
   "source": [
    "Path(\"database.db\").unlink(missing_ok=True)"
   ]
  },
  {
   "cell_type": "code",
   "execution_count": 3,
   "id": "8ebdc212-92e3-41c6-a294-87087e329988",
   "metadata": {
    "execution": {
     "iopub.execute_input": "2024-12-17T15:00:03.477400Z",
     "iopub.status.busy": "2024-12-17T15:00:03.477242Z",
     "iopub.status.idle": "2024-12-17T15:00:03.480330Z",
     "shell.execute_reply": "2024-12-17T15:00:03.479780Z",
     "shell.execute_reply.started": "2024-12-17T15:00:03.477389Z"
    }
   },
   "outputs": [],
   "source": [
    "conn = sqlite3.connect('database.db')\n",
    "cursor = conn.cursor()"
   ]
  },
  {
   "cell_type": "markdown",
   "id": "e63ce93d-b4a3-43ca-bb55-b98b8588162d",
   "metadata": {},
   "source": [
    "# Table creation and data ingestion"
   ]
  },
  {
   "cell_type": "code",
   "execution_count": 4,
   "id": "bc09263e-56c6-4b45-9fb8-1aa5ddf3ef4d",
   "metadata": {
    "execution": {
     "iopub.execute_input": "2024-12-17T15:00:04.236415Z",
     "iopub.status.busy": "2024-12-17T15:00:04.235614Z",
     "iopub.status.idle": "2024-12-17T15:00:04.244136Z",
     "shell.execute_reply": "2024-12-17T15:00:04.243218Z",
     "shell.execute_reply.started": "2024-12-17T15:00:04.236340Z"
    }
   },
   "outputs": [],
   "source": [
    "cursor.execute('''\n",
    "CREATE TABLE IF NOT EXISTS conversations (\n",
    "    id INTEGER PRIMARY KEY,\n",
    "    text TEXT\n",
    ")\n",
    "''')\n",
    "conn.commit()"
   ]
  },
  {
   "cell_type": "code",
   "execution_count": 5,
   "id": "39ae1e43-0799-4a16-9a3a-2f03bc18ef80",
   "metadata": {
    "execution": {
     "iopub.execute_input": "2024-12-17T15:00:12.459734Z",
     "iopub.status.busy": "2024-12-17T15:00:12.458644Z",
     "iopub.status.idle": "2024-12-17T15:00:12.509557Z",
     "shell.execute_reply": "2024-12-17T15:00:12.509280Z",
     "shell.execute_reply.started": "2024-12-17T15:00:12.459665Z"
    }
   },
   "outputs": [
    {
     "name": "stdout",
     "output_type": "stream",
     "text": [
      "2347\n"
     ]
    },
    {
     "data": {
      "text/html": [
       "<div>\n",
       "<style scoped>\n",
       "    .dataframe tbody tr th:only-of-type {\n",
       "        vertical-align: middle;\n",
       "    }\n",
       "\n",
       "    .dataframe tbody tr th {\n",
       "        vertical-align: top;\n",
       "    }\n",
       "\n",
       "    .dataframe thead th {\n",
       "        text-align: right;\n",
       "    }\n",
       "</style>\n",
       "<table border=\"1\" class=\"dataframe\">\n",
       "  <thead>\n",
       "    <tr style=\"text-align: right;\">\n",
       "      <th></th>\n",
       "      <th>id</th>\n",
       "      <th>text</th>\n",
       "      <th>tag</th>\n",
       "    </tr>\n",
       "  </thead>\n",
       "  <tbody>\n",
       "    <tr>\n",
       "      <th>0</th>\n",
       "      <td>0</td>\n",
       "      <td>Agent: Hi, this is Kevin from Holland and Barr...</td>\n",
       "      <td>store closing hours</td>\n",
       "    </tr>\n",
       "    <tr>\n",
       "      <th>1</th>\n",
       "      <td>1</td>\n",
       "      <td>Agent: Good morning, Holland and Barrett custo...</td>\n",
       "      <td>repeat purchases</td>\n",
       "    </tr>\n",
       "    <tr>\n",
       "      <th>2</th>\n",
       "      <td>2</td>\n",
       "      <td>Agent: Hi, thank you for contacting Holland an...</td>\n",
       "      <td>supplement advice</td>\n",
       "    </tr>\n",
       "    <tr>\n",
       "      <th>3</th>\n",
       "      <td>3</td>\n",
       "      <td>Agent: Hello, Holland &amp; Barrett customer suppo...</td>\n",
       "      <td>staff interaction</td>\n",
       "    </tr>\n",
       "    <tr>\n",
       "      <th>4</th>\n",
       "      <td>4</td>\n",
       "      <td>Agent: Thank you for calling Holland &amp; Barrett...</td>\n",
       "      <td>hair products</td>\n",
       "    </tr>\n",
       "  </tbody>\n",
       "</table>\n",
       "</div>"
      ],
      "text/plain": [
       "   id                                               text                  tag\n",
       "0   0  Agent: Hi, this is Kevin from Holland and Barr...  store closing hours\n",
       "1   1  Agent: Good morning, Holland and Barrett custo...     repeat purchases\n",
       "2   2  Agent: Hi, thank you for contacting Holland an...    supplement advice\n",
       "3   3  Agent: Hello, Holland & Barrett customer suppo...    staff interaction\n",
       "4   4  Agent: Thank you for calling Holland & Barrett...        hair products"
      ]
     },
     "execution_count": 5,
     "metadata": {},
     "output_type": "execute_result"
    }
   ],
   "source": [
    "df = pd.read_csv(\"data/data-v1.csv\")\n",
    "print(len(df))\n",
    "df.head()"
   ]
  },
  {
   "cell_type": "code",
   "execution_count": 6,
   "id": "bd1c0a04-0eb5-4258-9241-28a540d0cfaf",
   "metadata": {
    "execution": {
     "iopub.execute_input": "2024-12-17T15:00:18.439057Z",
     "iopub.status.busy": "2024-12-17T15:00:18.438411Z",
     "iopub.status.idle": "2024-12-17T15:00:18.454056Z",
     "shell.execute_reply": "2024-12-17T15:00:18.453183Z",
     "shell.execute_reply.started": "2024-12-17T15:00:18.439009Z"
    }
   },
   "outputs": [
    {
     "name": "stdout",
     "output_type": "stream",
     "text": [
      "2347\n"
     ]
    },
    {
     "data": {
      "text/html": [
       "<div>\n",
       "<style scoped>\n",
       "    .dataframe tbody tr th:only-of-type {\n",
       "        vertical-align: middle;\n",
       "    }\n",
       "\n",
       "    .dataframe tbody tr th {\n",
       "        vertical-align: top;\n",
       "    }\n",
       "\n",
       "    .dataframe thead th {\n",
       "        text-align: right;\n",
       "    }\n",
       "</style>\n",
       "<table border=\"1\" class=\"dataframe\">\n",
       "  <thead>\n",
       "    <tr style=\"text-align: right;\">\n",
       "      <th></th>\n",
       "      <th>id</th>\n",
       "      <th>text</th>\n",
       "    </tr>\n",
       "  </thead>\n",
       "  <tbody>\n",
       "    <tr>\n",
       "      <th>0</th>\n",
       "      <td>0</td>\n",
       "      <td>Agent: Hi, this is Kevin from Holland and Barr...</td>\n",
       "    </tr>\n",
       "    <tr>\n",
       "      <th>1</th>\n",
       "      <td>1</td>\n",
       "      <td>Agent: Good morning, Holland and Barrett custo...</td>\n",
       "    </tr>\n",
       "    <tr>\n",
       "      <th>2</th>\n",
       "      <td>2</td>\n",
       "      <td>Agent: Hi, thank you for contacting Holland an...</td>\n",
       "    </tr>\n",
       "    <tr>\n",
       "      <th>3</th>\n",
       "      <td>3</td>\n",
       "      <td>Agent: Hello, Holland &amp; Barrett customer suppo...</td>\n",
       "    </tr>\n",
       "    <tr>\n",
       "      <th>4</th>\n",
       "      <td>4</td>\n",
       "      <td>Agent: Thank you for calling Holland &amp; Barrett...</td>\n",
       "    </tr>\n",
       "  </tbody>\n",
       "</table>\n",
       "</div>"
      ],
      "text/plain": [
       "   id                                               text\n",
       "0   0  Agent: Hi, this is Kevin from Holland and Barr...\n",
       "1   1  Agent: Good morning, Holland and Barrett custo...\n",
       "2   2  Agent: Hi, thank you for contacting Holland an...\n",
       "3   3  Agent: Hello, Holland & Barrett customer suppo...\n",
       "4   4  Agent: Thank you for calling Holland & Barrett..."
      ]
     },
     "execution_count": 6,
     "metadata": {},
     "output_type": "execute_result"
    }
   ],
   "source": [
    "df_conversations = df[[\"id\", \"text\"]]\n",
    "print(len(df_conversations))\n",
    "df_conversations.head()"
   ]
  },
  {
   "cell_type": "code",
   "execution_count": 7,
   "id": "1f21bfb5-87b1-4337-9af4-f5c8ce074efe",
   "metadata": {
    "execution": {
     "iopub.execute_input": "2024-12-17T15:00:21.615032Z",
     "iopub.status.busy": "2024-12-17T15:00:21.614239Z",
     "iopub.status.idle": "2024-12-17T15:00:21.635762Z",
     "shell.execute_reply": "2024-12-17T15:00:21.634895Z",
     "shell.execute_reply.started": "2024-12-17T15:00:21.614963Z"
    }
   },
   "outputs": [
    {
     "data": {
      "text/plain": [
       "2347"
      ]
     },
     "execution_count": 7,
     "metadata": {},
     "output_type": "execute_result"
    }
   ],
   "source": [
    "df_conversations.to_sql('conversations', conn, if_exists='append', index=False)"
   ]
  },
  {
   "cell_type": "code",
   "execution_count": 16,
   "id": "9a4b8777-f258-4f4b-a626-02e2809bbfc7",
   "metadata": {
    "execution": {
     "iopub.execute_input": "2024-12-17T15:10:02.711884Z",
     "iopub.status.busy": "2024-12-17T15:10:02.710691Z",
     "iopub.status.idle": "2024-12-17T15:10:02.726493Z",
     "shell.execute_reply": "2024-12-17T15:10:02.725650Z",
     "shell.execute_reply.started": "2024-12-17T15:10:02.711543Z"
    }
   },
   "outputs": [],
   "source": [
    "cursor.execute('DROP TABLE IF EXISTS features')\n",
    "conn.commit()"
   ]
  },
  {
   "cell_type": "code",
   "execution_count": 17,
   "id": "32841da7-b11d-4a87-a5ed-6ed544bbac57",
   "metadata": {
    "execution": {
     "iopub.execute_input": "2024-12-17T15:10:04.330550Z",
     "iopub.status.busy": "2024-12-17T15:10:04.329616Z",
     "iopub.status.idle": "2024-12-17T15:10:04.348115Z",
     "shell.execute_reply": "2024-12-17T15:10:04.347622Z",
     "shell.execute_reply.started": "2024-12-17T15:10:04.330451Z"
    }
   },
   "outputs": [],
   "source": [
    "cursor.execute('''\n",
    "CREATE TABLE IF NOT EXISTS features (\n",
    "    conversation_id INTEGER,\n",
    "    tag TEXT,\n",
    "    user_final_sentiment TEXT,\n",
    "    FOREIGN KEY (conversation_id) REFERENCES conversations(id)\n",
    ")\n",
    "''')\n",
    "conn.commit()"
   ]
  },
  {
   "cell_type": "code",
   "execution_count": 23,
   "id": "51a9f5b9-e043-499b-9a17-3e447b5074ad",
   "metadata": {
    "execution": {
     "iopub.execute_input": "2024-12-17T15:14:22.685468Z",
     "iopub.status.busy": "2024-12-17T15:14:22.684231Z",
     "iopub.status.idle": "2024-12-17T15:14:22.717425Z",
     "shell.execute_reply": "2024-12-17T15:14:22.716877Z",
     "shell.execute_reply.started": "2024-12-17T15:14:22.685389Z"
    }
   },
   "outputs": [
    {
     "name": "stdout",
     "output_type": "stream",
     "text": [
      "2347\n"
     ]
    },
    {
     "data": {
      "text/html": [
       "<div>\n",
       "<style scoped>\n",
       "    .dataframe tbody tr th:only-of-type {\n",
       "        vertical-align: middle;\n",
       "    }\n",
       "\n",
       "    .dataframe tbody tr th {\n",
       "        vertical-align: top;\n",
       "    }\n",
       "\n",
       "    .dataframe thead th {\n",
       "        text-align: right;\n",
       "    }\n",
       "</style>\n",
       "<table border=\"1\" class=\"dataframe\">\n",
       "  <thead>\n",
       "    <tr style=\"text-align: right;\">\n",
       "      <th></th>\n",
       "      <th>conversation_id</th>\n",
       "      <th>user_final_sentiment</th>\n",
       "    </tr>\n",
       "  </thead>\n",
       "  <tbody>\n",
       "    <tr>\n",
       "      <th>0</th>\n",
       "      <td>0</td>\n",
       "      <td>Positive</td>\n",
       "    </tr>\n",
       "    <tr>\n",
       "      <th>1</th>\n",
       "      <td>1</td>\n",
       "      <td>Positive</td>\n",
       "    </tr>\n",
       "    <tr>\n",
       "      <th>2</th>\n",
       "      <td>2</td>\n",
       "      <td>Positive</td>\n",
       "    </tr>\n",
       "    <tr>\n",
       "      <th>3</th>\n",
       "      <td>3</td>\n",
       "      <td>Positive</td>\n",
       "    </tr>\n",
       "    <tr>\n",
       "      <th>4</th>\n",
       "      <td>4</td>\n",
       "      <td>Positive</td>\n",
       "    </tr>\n",
       "  </tbody>\n",
       "</table>\n",
       "</div>"
      ],
      "text/plain": [
       "   conversation_id user_final_sentiment\n",
       "0                0             Positive\n",
       "1                1             Positive\n",
       "2                2             Positive\n",
       "3                3             Positive\n",
       "4                4             Positive"
      ]
     },
     "execution_count": 23,
     "metadata": {},
     "output_type": "execute_result"
    }
   ],
   "source": [
    "df_sentiment = pd.read_csv(\"data/sentiment.csv\")\n",
    "print(len(df_sentiment))\n",
    "df_sentiment.head()"
   ]
  },
  {
   "cell_type": "code",
   "execution_count": 24,
   "id": "4db151e8-b18b-4353-b766-6a3d9cbe3410",
   "metadata": {
    "execution": {
     "iopub.execute_input": "2024-12-17T15:14:28.255266Z",
     "iopub.status.busy": "2024-12-17T15:14:28.254134Z",
     "iopub.status.idle": "2024-12-17T15:14:28.271570Z",
     "shell.execute_reply": "2024-12-17T15:14:28.271152Z",
     "shell.execute_reply.started": "2024-12-17T15:14:28.255186Z"
    }
   },
   "outputs": [
    {
     "name": "stdout",
     "output_type": "stream",
     "text": [
      "2347\n"
     ]
    },
    {
     "data": {
      "text/html": [
       "<div>\n",
       "<style scoped>\n",
       "    .dataframe tbody tr th:only-of-type {\n",
       "        vertical-align: middle;\n",
       "    }\n",
       "\n",
       "    .dataframe tbody tr th {\n",
       "        vertical-align: top;\n",
       "    }\n",
       "\n",
       "    .dataframe thead th {\n",
       "        text-align: right;\n",
       "    }\n",
       "</style>\n",
       "<table border=\"1\" class=\"dataframe\">\n",
       "  <thead>\n",
       "    <tr style=\"text-align: right;\">\n",
       "      <th></th>\n",
       "      <th>conversation_id</th>\n",
       "      <th>tag</th>\n",
       "    </tr>\n",
       "  </thead>\n",
       "  <tbody>\n",
       "    <tr>\n",
       "      <th>0</th>\n",
       "      <td>0</td>\n",
       "      <td>Store Early Closure</td>\n",
       "    </tr>\n",
       "    <tr>\n",
       "      <th>1</th>\n",
       "      <td>1</td>\n",
       "      <td>repeat purchases</td>\n",
       "    </tr>\n",
       "    <tr>\n",
       "      <th>2</th>\n",
       "      <td>2</td>\n",
       "      <td>Stress &amp; Anxiety Supplements</td>\n",
       "    </tr>\n",
       "    <tr>\n",
       "      <th>3</th>\n",
       "      <td>3</td>\n",
       "      <td>Store Staff Service</td>\n",
       "    </tr>\n",
       "    <tr>\n",
       "      <th>4</th>\n",
       "      <td>4</td>\n",
       "      <td>hair products</td>\n",
       "    </tr>\n",
       "  </tbody>\n",
       "</table>\n",
       "</div>"
      ],
      "text/plain": [
       "   conversation_id                           tag\n",
       "0                0           Store Early Closure\n",
       "1                1              repeat purchases\n",
       "2                2  Stress & Anxiety Supplements\n",
       "3                3           Store Staff Service\n",
       "4                4                 hair products"
      ]
     },
     "execution_count": 24,
     "metadata": {},
     "output_type": "execute_result"
    }
   ],
   "source": [
    "df_tag = pd.read_csv(\"data/tag-updated.csv\")\n",
    "print(len(df_tag))\n",
    "df_tag.head()"
   ]
  },
  {
   "cell_type": "code",
   "execution_count": 25,
   "id": "b6820e75-50c0-495d-aaab-cbad8d39b005",
   "metadata": {
    "execution": {
     "iopub.execute_input": "2024-12-17T15:14:30.701400Z",
     "iopub.status.busy": "2024-12-17T15:14:30.700573Z",
     "iopub.status.idle": "2024-12-17T15:14:30.720571Z",
     "shell.execute_reply": "2024-12-17T15:14:30.720078Z",
     "shell.execute_reply.started": "2024-12-17T15:14:30.701327Z"
    }
   },
   "outputs": [
    {
     "name": "stdout",
     "output_type": "stream",
     "text": [
      "2347\n"
     ]
    },
    {
     "data": {
      "text/html": [
       "<div>\n",
       "<style scoped>\n",
       "    .dataframe tbody tr th:only-of-type {\n",
       "        vertical-align: middle;\n",
       "    }\n",
       "\n",
       "    .dataframe tbody tr th {\n",
       "        vertical-align: top;\n",
       "    }\n",
       "\n",
       "    .dataframe thead th {\n",
       "        text-align: right;\n",
       "    }\n",
       "</style>\n",
       "<table border=\"1\" class=\"dataframe\">\n",
       "  <thead>\n",
       "    <tr style=\"text-align: right;\">\n",
       "      <th></th>\n",
       "      <th>conversation_id</th>\n",
       "      <th>user_final_sentiment</th>\n",
       "      <th>tag</th>\n",
       "    </tr>\n",
       "  </thead>\n",
       "  <tbody>\n",
       "    <tr>\n",
       "      <th>0</th>\n",
       "      <td>0</td>\n",
       "      <td>Positive</td>\n",
       "      <td>Store Early Closure</td>\n",
       "    </tr>\n",
       "    <tr>\n",
       "      <th>1</th>\n",
       "      <td>1</td>\n",
       "      <td>Positive</td>\n",
       "      <td>repeat purchases</td>\n",
       "    </tr>\n",
       "    <tr>\n",
       "      <th>2</th>\n",
       "      <td>2</td>\n",
       "      <td>Positive</td>\n",
       "      <td>Stress &amp; Anxiety Supplements</td>\n",
       "    </tr>\n",
       "    <tr>\n",
       "      <th>3</th>\n",
       "      <td>3</td>\n",
       "      <td>Positive</td>\n",
       "      <td>Store Staff Service</td>\n",
       "    </tr>\n",
       "    <tr>\n",
       "      <th>4</th>\n",
       "      <td>4</td>\n",
       "      <td>Positive</td>\n",
       "      <td>hair products</td>\n",
       "    </tr>\n",
       "  </tbody>\n",
       "</table>\n",
       "</div>"
      ],
      "text/plain": [
       "   conversation_id user_final_sentiment                           tag\n",
       "0                0             Positive           Store Early Closure\n",
       "1                1             Positive              repeat purchases\n",
       "2                2             Positive  Stress & Anxiety Supplements\n",
       "3                3             Positive           Store Staff Service\n",
       "4                4             Positive                 hair products"
      ]
     },
     "execution_count": 25,
     "metadata": {},
     "output_type": "execute_result"
    }
   ],
   "source": [
    "df_features = pd.merge(df_sentiment, df_tag, on=\"conversation_id\")\n",
    "print(len(df_features))\n",
    "df_features.head()"
   ]
  },
  {
   "cell_type": "code",
   "execution_count": 26,
   "id": "65ade8a9-2f39-45a9-b8bc-513dd8be89de",
   "metadata": {
    "execution": {
     "iopub.execute_input": "2024-12-17T15:14:46.535104Z",
     "iopub.status.busy": "2024-12-17T15:14:46.533261Z",
     "iopub.status.idle": "2024-12-17T15:14:46.559998Z",
     "shell.execute_reply": "2024-12-17T15:14:46.559663Z",
     "shell.execute_reply.started": "2024-12-17T15:14:46.534941Z"
    }
   },
   "outputs": [
    {
     "data": {
      "text/plain": [
       "2347"
      ]
     },
     "execution_count": 26,
     "metadata": {},
     "output_type": "execute_result"
    }
   ],
   "source": [
    "df_features.to_sql(\"features\", conn, if_exists='append', index=False)"
   ]
  },
  {
   "cell_type": "code",
   "execution_count": 27,
   "id": "26afe771-6bb7-4ff0-97a0-c331029bc771",
   "metadata": {
    "execution": {
     "iopub.execute_input": "2024-12-17T15:14:48.154242Z",
     "iopub.status.busy": "2024-12-17T15:14:48.153535Z",
     "iopub.status.idle": "2024-12-17T15:14:48.177611Z",
     "shell.execute_reply": "2024-12-17T15:14:48.177082Z",
     "shell.execute_reply.started": "2024-12-17T15:14:48.154176Z"
    }
   },
   "outputs": [
    {
     "name": "stdout",
     "output_type": "stream",
     "text": [
      "2347\n"
     ]
    },
    {
     "data": {
      "text/html": [
       "<div>\n",
       "<style scoped>\n",
       "    .dataframe tbody tr th:only-of-type {\n",
       "        vertical-align: middle;\n",
       "    }\n",
       "\n",
       "    .dataframe tbody tr th {\n",
       "        vertical-align: top;\n",
       "    }\n",
       "\n",
       "    .dataframe thead th {\n",
       "        text-align: right;\n",
       "    }\n",
       "</style>\n",
       "<table border=\"1\" class=\"dataframe\">\n",
       "  <thead>\n",
       "    <tr style=\"text-align: right;\">\n",
       "      <th></th>\n",
       "      <th>conversation_id</th>\n",
       "      <th>key_issue</th>\n",
       "      <th>key_resolution</th>\n",
       "    </tr>\n",
       "  </thead>\n",
       "  <tbody>\n",
       "    <tr>\n",
       "      <th>0</th>\n",
       "      <td>0</td>\n",
       "      <td>Store unexpectedly closed.</td>\n",
       "      <td>Store closure due to power outage.</td>\n",
       "    </tr>\n",
       "    <tr>\n",
       "      <th>1</th>\n",
       "      <td>1</td>\n",
       "      <td>Missing order confirmation email.</td>\n",
       "      <td>Order confirmed; email confirmation missing du...</td>\n",
       "    </tr>\n",
       "    <tr>\n",
       "      <th>2</th>\n",
       "      <td>2</td>\n",
       "      <td>Seeking supplement advice for anxiety.</td>\n",
       "      <td>Supplement recommendations for anxiety: 5-HTP ...</td>\n",
       "    </tr>\n",
       "    <tr>\n",
       "      <th>3</th>\n",
       "      <td>3</td>\n",
       "      <td>Rude and unhelpful staff.</td>\n",
       "      <td>Feedback on rude staff relayed to store manager.</td>\n",
       "    </tr>\n",
       "    <tr>\n",
       "      <th>4</th>\n",
       "      <td>4</td>\n",
       "      <td>Vegetarian suitability of hair loss capsules.</td>\n",
       "      <td>Confirmed vegetarian suitability of product.</td>\n",
       "    </tr>\n",
       "  </tbody>\n",
       "</table>\n",
       "</div>"
      ],
      "text/plain": [
       "   conversation_id                                      key_issue  \\\n",
       "0                0                     Store unexpectedly closed.   \n",
       "1                1              Missing order confirmation email.   \n",
       "2                2         Seeking supplement advice for anxiety.   \n",
       "3                3                      Rude and unhelpful staff.   \n",
       "4                4  Vegetarian suitability of hair loss capsules.   \n",
       "\n",
       "                                      key_resolution  \n",
       "0                 Store closure due to power outage.  \n",
       "1  Order confirmed; email confirmation missing du...  \n",
       "2  Supplement recommendations for anxiety: 5-HTP ...  \n",
       "3   Feedback on rude staff relayed to store manager.  \n",
       "4       Confirmed vegetarian suitability of product.  "
      ]
     },
     "execution_count": 27,
     "metadata": {},
     "output_type": "execute_result"
    }
   ],
   "source": [
    "df_distilled = pd.read_csv(\"data/distilled.csv\")\n",
    "print(len(df_distilled))\n",
    "df_distilled.head()"
   ]
  },
  {
   "cell_type": "code",
   "execution_count": 28,
   "id": "3b3d9121-f5aa-43e5-a4e8-fb650c73d7fd",
   "metadata": {
    "execution": {
     "iopub.execute_input": "2024-12-17T15:14:50.359546Z",
     "iopub.status.busy": "2024-12-17T15:14:50.358774Z",
     "iopub.status.idle": "2024-12-17T15:14:50.366554Z",
     "shell.execute_reply": "2024-12-17T15:14:50.365914Z",
     "shell.execute_reply.started": "2024-12-17T15:14:50.359477Z"
    }
   },
   "outputs": [],
   "source": [
    "cursor.execute('''\n",
    "CREATE TABLE IF NOT EXISTS distilled (\n",
    "    conversation_id INTEGER,\n",
    "    key_issue TEXT,\n",
    "    key_resolution TEXT,\n",
    "    FOREIGN KEY (conversation_id) REFERENCES conversation(id)\n",
    ")\n",
    "''')\n",
    "conn.commit()"
   ]
  },
  {
   "cell_type": "code",
   "execution_count": 29,
   "id": "41e36937-d34b-4bd9-aa50-8d5cc62ee3eb",
   "metadata": {
    "execution": {
     "iopub.execute_input": "2024-12-17T15:14:52.269108Z",
     "iopub.status.busy": "2024-12-17T15:14:52.268492Z",
     "iopub.status.idle": "2024-12-17T15:14:52.287820Z",
     "shell.execute_reply": "2024-12-17T15:14:52.287136Z",
     "shell.execute_reply.started": "2024-12-17T15:14:52.269067Z"
    }
   },
   "outputs": [
    {
     "data": {
      "text/plain": [
       "2347"
      ]
     },
     "execution_count": 29,
     "metadata": {},
     "output_type": "execute_result"
    }
   ],
   "source": [
    "df_distilled.to_sql(\"distilled\", conn, if_exists='append', index=False)"
   ]
  },
  {
   "cell_type": "code",
   "execution_count": null,
   "id": "b2a0fc02-a15c-4dda-89f3-fcabc815d242",
   "metadata": {},
   "outputs": [],
   "source": []
  }
 ],
 "metadata": {
  "kernelspec": {
   "display_name": "Python 3 (ipykernel)",
   "language": "python",
   "name": "python3"
  },
  "language_info": {
   "codemirror_mode": {
    "name": "ipython",
    "version": 3
   },
   "file_extension": ".py",
   "mimetype": "text/x-python",
   "name": "python",
   "nbconvert_exporter": "python",
   "pygments_lexer": "ipython3",
   "version": "3.9.12"
  }
 },
 "nbformat": 4,
 "nbformat_minor": 5
}
