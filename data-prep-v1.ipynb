{
 "cells": [
  {
   "cell_type": "markdown",
   "id": "36eeb60e-b592-4dd8-ab99-cbdde5887bf0",
   "metadata": {
    "execution": {
     "iopub.execute_input": "2024-12-17T14:15:56.451151Z",
     "iopub.status.busy": "2024-12-17T14:15:56.447799Z",
     "iopub.status.idle": "2024-12-17T14:15:56.480083Z",
     "shell.execute_reply": "2024-12-17T14:15:56.479568Z",
     "shell.execute_reply.started": "2024-12-17T14:15:56.450293Z"
    }
   },
   "source": [
    "# Minimal edits to get started with data processing"
   ]
  },
  {
   "cell_type": "code",
   "execution_count": 1,
   "id": "da278d6b-f759-4c93-ae8d-c7818f5bb41a",
   "metadata": {
    "execution": {
     "iopub.execute_input": "2024-12-17T14:16:40.918357Z",
     "iopub.status.busy": "2024-12-17T14:16:40.918002Z",
     "iopub.status.idle": "2024-12-17T14:16:41.193225Z",
     "shell.execute_reply": "2024-12-17T14:16:41.192556Z",
     "shell.execute_reply.started": "2024-12-17T14:16:40.918327Z"
    }
   },
   "outputs": [],
   "source": [
    "import pandas as pd\n",
    "from datetime import datetime, timedelta\n",
    "import random"
   ]
  },
  {
   "cell_type": "code",
   "execution_count": 2,
   "id": "2b41aa8e-a897-4518-b0d5-4200a660e014",
   "metadata": {
    "execution": {
     "iopub.execute_input": "2024-12-17T14:16:41.194291Z",
     "iopub.status.busy": "2024-12-17T14:16:41.194060Z",
     "iopub.status.idle": "2024-12-17T14:16:41.233457Z",
     "shell.execute_reply": "2024-12-17T14:16:41.233017Z",
     "shell.execute_reply.started": "2024-12-17T14:16:41.194267Z"
    }
   },
   "outputs": [
    {
     "name": "stdout",
     "output_type": "stream",
     "text": [
      "2347\n"
     ]
    },
    {
     "data": {
      "text/html": [
       "<div>\n",
       "<style scoped>\n",
       "    .dataframe tbody tr th:only-of-type {\n",
       "        vertical-align: middle;\n",
       "    }\n",
       "\n",
       "    .dataframe tbody tr th {\n",
       "        vertical-align: top;\n",
       "    }\n",
       "\n",
       "    .dataframe thead th {\n",
       "        text-align: right;\n",
       "    }\n",
       "</style>\n",
       "<table border=\"1\" class=\"dataframe\">\n",
       "  <thead>\n",
       "    <tr style=\"text-align: right;\">\n",
       "      <th></th>\n",
       "      <th>text</th>\n",
       "      <th>tag</th>\n",
       "    </tr>\n",
       "  </thead>\n",
       "  <tbody>\n",
       "    <tr>\n",
       "      <th>0</th>\n",
       "      <td>Agent: Hi, this is Kevin from Holland and Barr...</td>\n",
       "      <td>store closing hours</td>\n",
       "    </tr>\n",
       "    <tr>\n",
       "      <th>1</th>\n",
       "      <td>Agent: Good morning, Holland and Barrett custo...</td>\n",
       "      <td>repeat purchases</td>\n",
       "    </tr>\n",
       "    <tr>\n",
       "      <th>2</th>\n",
       "      <td>Agent: Hi, thank you for contacting Holland an...</td>\n",
       "      <td>supplement advice</td>\n",
       "    </tr>\n",
       "    <tr>\n",
       "      <th>3</th>\n",
       "      <td>Agent: Hello, Holland &amp; Barrett customer suppo...</td>\n",
       "      <td>staff interaction</td>\n",
       "    </tr>\n",
       "    <tr>\n",
       "      <th>4</th>\n",
       "      <td>Agent: Thank you for calling Holland &amp; Barrett...</td>\n",
       "      <td>hair products</td>\n",
       "    </tr>\n",
       "  </tbody>\n",
       "</table>\n",
       "</div>"
      ],
      "text/plain": [
       "                                                text                  tag\n",
       "0  Agent: Hi, this is Kevin from Holland and Barr...  store closing hours\n",
       "1  Agent: Good morning, Holland and Barrett custo...     repeat purchases\n",
       "2  Agent: Hi, thank you for contacting Holland an...    supplement advice\n",
       "3  Agent: Hello, Holland & Barrett customer suppo...    staff interaction\n",
       "4  Agent: Thank you for calling Holland & Barrett...        hair products"
      ]
     },
     "execution_count": 2,
     "metadata": {},
     "output_type": "execute_result"
    }
   ],
   "source": [
    "df = pd.read_csv(\"assignment.csv\")\n",
    "print(len(df))\n",
    "\n",
    "df = df.rename(columns={\"conversation_text\": \"text\", \"conversation_tag\": \"tag\"})\n",
    "\n",
    "df.head()"
   ]
  },
  {
   "cell_type": "code",
   "execution_count": 3,
   "id": "205baf86-4c3f-421f-b8a1-7118837e1512",
   "metadata": {
    "execution": {
     "iopub.execute_input": "2024-12-17T14:16:41.234060Z",
     "iopub.status.busy": "2024-12-17T14:16:41.233964Z",
     "iopub.status.idle": "2024-12-17T14:16:41.238049Z",
     "shell.execute_reply": "2024-12-17T14:16:41.237572Z",
     "shell.execute_reply.started": "2024-12-17T14:16:41.234048Z"
    }
   },
   "outputs": [],
   "source": [
    "# Adding an id to the column for ease of processing\n",
    "df[\"id\"] = range(len(df))\n",
    "df = df[[\"id\", \"text\", \"tag\"]]"
   ]
  },
  {
   "cell_type": "code",
   "execution_count": 4,
   "id": "c3251d75-507f-42c8-a040-185696ac4b21",
   "metadata": {
    "execution": {
     "iopub.execute_input": "2024-12-17T14:16:41.323460Z",
     "iopub.status.busy": "2024-12-17T14:16:41.323236Z",
     "iopub.status.idle": "2024-12-17T14:16:41.348053Z",
     "shell.execute_reply": "2024-12-17T14:16:41.347704Z",
     "shell.execute_reply.started": "2024-12-17T14:16:41.323443Z"
    }
   },
   "outputs": [],
   "source": [
    "df.to_csv(\"data/data-v1.csv\", index=False)"
   ]
  },
  {
   "cell_type": "markdown",
   "id": "3dc698a3-4a98-4266-8fca-946e793c946e",
   "metadata": {},
   "source": [
    "# Data Enrichment"
   ]
  },
  {
   "cell_type": "markdown",
   "id": "cac2f692-d8d2-4d05-8352-6c74dc34a5b3",
   "metadata": {},
   "source": [
    "## Final sentiment of the user"
   ]
  },
  {
   "cell_type": "code",
   "execution_count": 1,
   "id": "b046272e-733c-461b-892f-e4c15f82b7d8",
   "metadata": {
    "execution": {
     "iopub.execute_input": "2024-12-17T14:56:41.403932Z",
     "iopub.status.busy": "2024-12-17T14:56:41.402581Z",
     "iopub.status.idle": "2024-12-17T14:56:42.370803Z",
     "shell.execute_reply": "2024-12-17T14:56:42.370524Z",
     "shell.execute_reply.started": "2024-12-17T14:56:41.403861Z"
    }
   },
   "outputs": [],
   "source": [
    "import pandas as pd\n",
    "import google.generativeai as genai\n",
    "import os\n",
    "from tqdm.notebook import tqdm\n",
    "from joblib import Parallel, delayed"
   ]
  },
  {
   "cell_type": "code",
   "execution_count": 2,
   "id": "e5edfc20-ecc8-4543-8cdc-b6bc1e31f812",
   "metadata": {
    "execution": {
     "iopub.execute_input": "2024-12-17T14:56:42.371799Z",
     "iopub.status.busy": "2024-12-17T14:56:42.371641Z",
     "iopub.status.idle": "2024-12-17T14:56:42.373643Z",
     "shell.execute_reply": "2024-12-17T14:56:42.373408Z",
     "shell.execute_reply.started": "2024-12-17T14:56:42.371785Z"
    }
   },
   "outputs": [],
   "source": [
    "genai.configure(api_key=os.environ[\"GEMINI_API_KEY\"])\n",
    "model = genai.GenerativeModel(\"gemini-1.5-flash\")"
   ]
  },
  {
   "cell_type": "code",
   "execution_count": 3,
   "id": "1016723d-9910-4520-b506-d2da4ec56c8d",
   "metadata": {
    "execution": {
     "iopub.execute_input": "2024-12-17T14:56:42.374120Z",
     "iopub.status.busy": "2024-12-17T14:56:42.374039Z",
     "iopub.status.idle": "2024-12-17T14:56:42.399732Z",
     "shell.execute_reply": "2024-12-17T14:56:42.399403Z",
     "shell.execute_reply.started": "2024-12-17T14:56:42.374110Z"
    }
   },
   "outputs": [
    {
     "name": "stdout",
     "output_type": "stream",
     "text": [
      "2347\n"
     ]
    },
    {
     "data": {
      "text/html": [
       "<div>\n",
       "<style scoped>\n",
       "    .dataframe tbody tr th:only-of-type {\n",
       "        vertical-align: middle;\n",
       "    }\n",
       "\n",
       "    .dataframe tbody tr th {\n",
       "        vertical-align: top;\n",
       "    }\n",
       "\n",
       "    .dataframe thead th {\n",
       "        text-align: right;\n",
       "    }\n",
       "</style>\n",
       "<table border=\"1\" class=\"dataframe\">\n",
       "  <thead>\n",
       "    <tr style=\"text-align: right;\">\n",
       "      <th></th>\n",
       "      <th>id</th>\n",
       "      <th>text</th>\n",
       "      <th>tag</th>\n",
       "    </tr>\n",
       "  </thead>\n",
       "  <tbody>\n",
       "    <tr>\n",
       "      <th>0</th>\n",
       "      <td>0</td>\n",
       "      <td>Agent: Hi, this is Kevin from Holland and Barr...</td>\n",
       "      <td>store closing hours</td>\n",
       "    </tr>\n",
       "    <tr>\n",
       "      <th>1</th>\n",
       "      <td>1</td>\n",
       "      <td>Agent: Good morning, Holland and Barrett custo...</td>\n",
       "      <td>repeat purchases</td>\n",
       "    </tr>\n",
       "    <tr>\n",
       "      <th>2</th>\n",
       "      <td>2</td>\n",
       "      <td>Agent: Hi, thank you for contacting Holland an...</td>\n",
       "      <td>supplement advice</td>\n",
       "    </tr>\n",
       "    <tr>\n",
       "      <th>3</th>\n",
       "      <td>3</td>\n",
       "      <td>Agent: Hello, Holland &amp; Barrett customer suppo...</td>\n",
       "      <td>staff interaction</td>\n",
       "    </tr>\n",
       "    <tr>\n",
       "      <th>4</th>\n",
       "      <td>4</td>\n",
       "      <td>Agent: Thank you for calling Holland &amp; Barrett...</td>\n",
       "      <td>hair products</td>\n",
       "    </tr>\n",
       "  </tbody>\n",
       "</table>\n",
       "</div>"
      ],
      "text/plain": [
       "   id                                               text                  tag\n",
       "0   0  Agent: Hi, this is Kevin from Holland and Barr...  store closing hours\n",
       "1   1  Agent: Good morning, Holland and Barrett custo...     repeat purchases\n",
       "2   2  Agent: Hi, thank you for contacting Holland an...    supplement advice\n",
       "3   3  Agent: Hello, Holland & Barrett customer suppo...    staff interaction\n",
       "4   4  Agent: Thank you for calling Holland & Barrett...        hair products"
      ]
     },
     "execution_count": 3,
     "metadata": {},
     "output_type": "execute_result"
    }
   ],
   "source": [
    "df = pd.read_csv(\"data/data-v1.csv\")\n",
    "print(len(df))\n",
    "df.head()"
   ]
  },
  {
   "cell_type": "code",
   "execution_count": 4,
   "id": "1b75e3b5-0f56-47b0-858f-1da0eef0d679",
   "metadata": {
    "execution": {
     "iopub.execute_input": "2024-12-17T14:56:42.400198Z",
     "iopub.status.busy": "2024-12-17T14:56:42.400107Z",
     "iopub.status.idle": "2024-12-17T14:56:42.402231Z",
     "shell.execute_reply": "2024-12-17T14:56:42.401972Z",
     "shell.execute_reply.started": "2024-12-17T14:56:42.400186Z"
    }
   },
   "outputs": [],
   "source": [
    "def get_user_sentiment(text):\n",
    "    prompt = f\"Given the following conversation between a customer and a support agent classify the user's final sentiment as Positive, Negative or Neutal. If a classification can't be made then state Not Enough information. Only response with these four options. \\nText: {text}\"\n",
    "    response = model.generate_content(prompt)\n",
    "    return response.text.strip()"
   ]
  },
  {
   "cell_type": "code",
   "execution_count": 5,
   "id": "c6db030a-0edf-49ff-aa1b-663591710010",
   "metadata": {
    "execution": {
     "iopub.execute_input": "2024-12-17T14:56:42.407604Z",
     "iopub.status.busy": "2024-12-17T14:56:42.407411Z",
     "iopub.status.idle": "2024-12-17T14:58:04.985611Z",
     "shell.execute_reply": "2024-12-17T14:58:04.984060Z",
     "shell.execute_reply.started": "2024-12-17T14:56:42.407593Z"
    },
    "scrolled": true
   },
   "outputs": [
    {
     "data": {
      "application/vnd.jupyter.widget-view+json": {
       "model_id": "12335af819a747deb5613994d4942e13",
       "version_major": 2,
       "version_minor": 0
      },
      "text/plain": [
       "  0%|          | 0/2347 [00:00<?, ?it/s]"
      ]
     },
     "metadata": {},
     "output_type": "display_data"
    }
   ],
   "source": [
    "user_final_sentiments = Parallel(n_jobs=16, backend=\"loky\")(delayed(get_user_sentiment)(x) for x in tqdm(df.text))"
   ]
  },
  {
   "cell_type": "code",
   "execution_count": 6,
   "id": "c946348c-465c-4f39-a455-95d7091c26c1",
   "metadata": {
    "execution": {
     "iopub.execute_input": "2024-12-17T14:58:04.988906Z",
     "iopub.status.busy": "2024-12-17T14:58:04.988309Z",
     "iopub.status.idle": "2024-12-17T14:58:04.999850Z",
     "shell.execute_reply": "2024-12-17T14:58:04.998627Z",
     "shell.execute_reply.started": "2024-12-17T14:58:04.988861Z"
    },
    "scrolled": true
   },
   "outputs": [],
   "source": [
    "df[\"user_final_sentiment\"] = user_final_sentiments"
   ]
  },
  {
   "cell_type": "code",
   "execution_count": 7,
   "id": "1643a290-9fb6-4678-86c8-204778490f62",
   "metadata": {
    "execution": {
     "iopub.execute_input": "2024-12-17T14:58:05.001412Z",
     "iopub.status.busy": "2024-12-17T14:58:05.001158Z",
     "iopub.status.idle": "2024-12-17T14:58:05.011624Z",
     "shell.execute_reply": "2024-12-17T14:58:05.010945Z",
     "shell.execute_reply.started": "2024-12-17T14:58:05.001385Z"
    }
   },
   "outputs": [],
   "source": [
    "df_feature = df[[\"id\", \"user_final_sentiment\"]]\n",
    "df_feature = df_feature.rename(columns={\"id\": \"conversation_id\"})"
   ]
  },
  {
   "cell_type": "code",
   "execution_count": 8,
   "id": "4e417fe2-89d2-44e0-958b-79ad5bcecd89",
   "metadata": {
    "execution": {
     "iopub.execute_input": "2024-12-17T14:58:05.012767Z",
     "iopub.status.busy": "2024-12-17T14:58:05.012489Z",
     "iopub.status.idle": "2024-12-17T14:58:05.020988Z",
     "shell.execute_reply": "2024-12-17T14:58:05.020570Z",
     "shell.execute_reply.started": "2024-12-17T14:58:05.012743Z"
    }
   },
   "outputs": [],
   "source": [
    "df_feature.to_csv(\"data/sentiment.csv\", index=False)"
   ]
  },
  {
   "cell_type": "markdown",
   "id": "2a775e27-ff05-4206-9db8-61a46bcdefa0",
   "metadata": {},
   "source": [
    "## Conversation distilled down to Key Issues and Key Resolution"
   ]
  },
  {
   "cell_type": "code",
   "execution_count": 1,
   "id": "fa98990f-d007-4cd9-8f7b-1e89edaf595b",
   "metadata": {
    "execution": {
     "iopub.execute_input": "2024-12-17T14:34:43.604456Z",
     "iopub.status.busy": "2024-12-17T14:34:43.604097Z",
     "iopub.status.idle": "2024-12-17T14:34:44.445821Z",
     "shell.execute_reply": "2024-12-17T14:34:44.445503Z",
     "shell.execute_reply.started": "2024-12-17T14:34:43.604428Z"
    }
   },
   "outputs": [],
   "source": [
    "import pandas as pd\n",
    "import google.generativeai as genai\n",
    "import os\n",
    "from tqdm.notebook import tqdm\n",
    "from joblib import Parallel, delayed"
   ]
  },
  {
   "cell_type": "code",
   "execution_count": 2,
   "id": "5c66c1f9-3176-4d70-a132-a2fda9384fa7",
   "metadata": {
    "execution": {
     "iopub.execute_input": "2024-12-17T14:34:44.446966Z",
     "iopub.status.busy": "2024-12-17T14:34:44.446691Z",
     "iopub.status.idle": "2024-12-17T14:34:44.448862Z",
     "shell.execute_reply": "2024-12-17T14:34:44.448606Z",
     "shell.execute_reply.started": "2024-12-17T14:34:44.446953Z"
    }
   },
   "outputs": [],
   "source": [
    "genai.configure(api_key=os.environ[\"GEMINI_API_KEY\"])\n",
    "model = genai.GenerativeModel(\"gemini-1.5-flash\")"
   ]
  },
  {
   "cell_type": "code",
   "execution_count": 3,
   "id": "a108a19a-ef0e-4d56-b8d4-cd694ec66660",
   "metadata": {
    "execution": {
     "iopub.execute_input": "2024-12-17T14:34:44.454316Z",
     "iopub.status.busy": "2024-12-17T14:34:44.454100Z",
     "iopub.status.idle": "2024-12-17T14:34:44.477579Z",
     "shell.execute_reply": "2024-12-17T14:34:44.477305Z",
     "shell.execute_reply.started": "2024-12-17T14:34:44.454304Z"
    }
   },
   "outputs": [
    {
     "name": "stdout",
     "output_type": "stream",
     "text": [
      "2347\n"
     ]
    },
    {
     "data": {
      "text/html": [
       "<div>\n",
       "<style scoped>\n",
       "    .dataframe tbody tr th:only-of-type {\n",
       "        vertical-align: middle;\n",
       "    }\n",
       "\n",
       "    .dataframe tbody tr th {\n",
       "        vertical-align: top;\n",
       "    }\n",
       "\n",
       "    .dataframe thead th {\n",
       "        text-align: right;\n",
       "    }\n",
       "</style>\n",
       "<table border=\"1\" class=\"dataframe\">\n",
       "  <thead>\n",
       "    <tr style=\"text-align: right;\">\n",
       "      <th></th>\n",
       "      <th>id</th>\n",
       "      <th>text</th>\n",
       "      <th>tag</th>\n",
       "    </tr>\n",
       "  </thead>\n",
       "  <tbody>\n",
       "    <tr>\n",
       "      <th>0</th>\n",
       "      <td>0</td>\n",
       "      <td>Agent: Hi, this is Kevin from Holland and Barr...</td>\n",
       "      <td>store closing hours</td>\n",
       "    </tr>\n",
       "    <tr>\n",
       "      <th>1</th>\n",
       "      <td>1</td>\n",
       "      <td>Agent: Good morning, Holland and Barrett custo...</td>\n",
       "      <td>repeat purchases</td>\n",
       "    </tr>\n",
       "    <tr>\n",
       "      <th>2</th>\n",
       "      <td>2</td>\n",
       "      <td>Agent: Hi, thank you for contacting Holland an...</td>\n",
       "      <td>supplement advice</td>\n",
       "    </tr>\n",
       "    <tr>\n",
       "      <th>3</th>\n",
       "      <td>3</td>\n",
       "      <td>Agent: Hello, Holland &amp; Barrett customer suppo...</td>\n",
       "      <td>staff interaction</td>\n",
       "    </tr>\n",
       "    <tr>\n",
       "      <th>4</th>\n",
       "      <td>4</td>\n",
       "      <td>Agent: Thank you for calling Holland &amp; Barrett...</td>\n",
       "      <td>hair products</td>\n",
       "    </tr>\n",
       "  </tbody>\n",
       "</table>\n",
       "</div>"
      ],
      "text/plain": [
       "   id                                               text                  tag\n",
       "0   0  Agent: Hi, this is Kevin from Holland and Barr...  store closing hours\n",
       "1   1  Agent: Good morning, Holland and Barrett custo...     repeat purchases\n",
       "2   2  Agent: Hi, thank you for contacting Holland an...    supplement advice\n",
       "3   3  Agent: Hello, Holland & Barrett customer suppo...    staff interaction\n",
       "4   4  Agent: Thank you for calling Holland & Barrett...        hair products"
      ]
     },
     "execution_count": 3,
     "metadata": {},
     "output_type": "execute_result"
    }
   ],
   "source": [
    "df = pd.read_csv(\"data/data-v1.csv\")\n",
    "print(len(df))\n",
    "df.head()"
   ]
  },
  {
   "cell_type": "code",
   "execution_count": 6,
   "id": "4febaa0b-323a-4c0e-9d31-2a13e8b2b08f",
   "metadata": {
    "execution": {
     "iopub.execute_input": "2024-12-17T14:34:57.311309Z",
     "iopub.status.busy": "2024-12-17T14:34:57.310350Z",
     "iopub.status.idle": "2024-12-17T14:34:57.320248Z",
     "shell.execute_reply": "2024-12-17T14:34:57.319375Z",
     "shell.execute_reply.started": "2024-12-17T14:34:57.311239Z"
    }
   },
   "outputs": [],
   "source": [
    "def get_key_issue(text):\n",
    "    prompt = f\"Given the following conversation between a customer and a support agent, distill down the key issue that the user had into very few words. If the user didn't have any issues, specify the reason for contacting support staff.\\n{text}\"\n",
    "    response = model.generate_content(prompt)\n",
    "    return response.text.strip()\n",
    "\n",
    "def get_key_resolution(text):\n",
    "    prompt = f\"Given the following conversation between a customer and a support agent, distill down the key resolution provided by the agent into very few words. If the user didn't have any issues, specify the reason for contacting support staff. If resolution couldn't be provided, state the reason for that\\n{text}\"\n",
    "    response = model.generate_content(prompt)\n",
    "    return response.text.strip()"
   ]
  },
  {
   "cell_type": "code",
   "execution_count": 7,
   "id": "4e1b0bdb-8ed6-4c7b-9930-362a77ed8904",
   "metadata": {
    "execution": {
     "iopub.execute_input": "2024-12-17T14:34:57.743933Z",
     "iopub.status.busy": "2024-12-17T14:34:57.743081Z",
     "iopub.status.idle": "2024-12-17T14:37:55.190359Z",
     "shell.execute_reply": "2024-12-17T14:37:55.188634Z",
     "shell.execute_reply.started": "2024-12-17T14:34:57.743863Z"
    }
   },
   "outputs": [
    {
     "data": {
      "application/vnd.jupyter.widget-view+json": {
       "model_id": "295549dff2f54e3fad240db19629a6fd",
       "version_major": 2,
       "version_minor": 0
      },
      "text/plain": [
       "  0%|          | 0/2347 [00:00<?, ?it/s]"
      ]
     },
     "metadata": {},
     "output_type": "display_data"
    }
   ],
   "source": [
    "key_issues = Parallel(n_jobs=8, backend=\"loky\")(delayed(get_key_issue)(x) for x in tqdm(df.text))"
   ]
  },
  {
   "cell_type": "code",
   "execution_count": 9,
   "id": "3491ac59-4565-4aa3-9f35-c69d812aaa0d",
   "metadata": {
    "execution": {
     "iopub.execute_input": "2024-12-17T14:38:24.882405Z",
     "iopub.status.busy": "2024-12-17T14:38:24.880649Z",
     "iopub.status.idle": "2024-12-17T14:41:20.481685Z",
     "shell.execute_reply": "2024-12-17T14:41:20.480202Z",
     "shell.execute_reply.started": "2024-12-17T14:38:24.882337Z"
    }
   },
   "outputs": [
    {
     "data": {
      "application/vnd.jupyter.widget-view+json": {
       "model_id": "90659161122c4c1e9b74d7e5b68df60c",
       "version_major": 2,
       "version_minor": 0
      },
      "text/plain": [
       "  0%|          | 0/2347 [00:00<?, ?it/s]"
      ]
     },
     "metadata": {},
     "output_type": "display_data"
    }
   ],
   "source": [
    "key_resolutions = Parallel(n_jobs=8, backend=\"loky\")(delayed(get_key_resolution)(x) for x in tqdm(df.text))"
   ]
  },
  {
   "cell_type": "code",
   "execution_count": 10,
   "id": "50f07834-aba4-4964-bcf7-1c50fbc0a1b3",
   "metadata": {
    "execution": {
     "iopub.execute_input": "2024-12-17T14:42:53.758513Z",
     "iopub.status.busy": "2024-12-17T14:42:53.756927Z",
     "iopub.status.idle": "2024-12-17T14:42:53.768602Z",
     "shell.execute_reply": "2024-12-17T14:42:53.767974Z",
     "shell.execute_reply.started": "2024-12-17T14:42:53.758440Z"
    }
   },
   "outputs": [
    {
     "data": {
      "text/plain": [
       "['Store unexpectedly closed.',\n",
       " 'Missing order confirmation email.',\n",
       " 'Seeking supplement advice for anxiety.',\n",
       " 'Rude and unhelpful staff.',\n",
       " 'Vegetarian suitability of hair loss capsules.',\n",
       " 'Incorrect delivery location.',\n",
       " 'Positive feedback; no issue.',\n",
       " 'Narrow store aisles.',\n",
       " 'Click and collect order unfulfilled due to store closure.',\n",
       " 'Store closed early, preventing order pickup.']"
      ]
     },
     "execution_count": 10,
     "metadata": {},
     "output_type": "execute_result"
    }
   ],
   "source": [
    "key_issues[:10]"
   ]
  },
  {
   "cell_type": "code",
   "execution_count": 11,
   "id": "95e972a2-5cdd-4134-8d24-7a17f0a992a7",
   "metadata": {
    "execution": {
     "iopub.execute_input": "2024-12-17T14:42:54.356543Z",
     "iopub.status.busy": "2024-12-17T14:42:54.355892Z",
     "iopub.status.idle": "2024-12-17T14:42:54.364920Z",
     "shell.execute_reply": "2024-12-17T14:42:54.363870Z",
     "shell.execute_reply.started": "2024-12-17T14:42:54.356489Z"
    }
   },
   "outputs": [
    {
     "data": {
      "text/plain": [
       "['Store closure due to power outage.',\n",
       " 'Order confirmed; email confirmation missing due to system error.',\n",
       " 'Supplement recommendations for anxiety: 5-HTP and Magnesium.',\n",
       " 'Feedback on rude staff relayed to store manager.',\n",
       " 'Confirmed vegetarian suitability of product.',\n",
       " 'Re-arranged home delivery for tomorrow.',\n",
       " 'Positive feedback; no issue resolution needed.',\n",
       " 'Feedback relayed to Stowmarket management.',\n",
       " 'Order redelivered at no extra cost due to store closure.',\n",
       " 'Home delivery arranged for order.']"
      ]
     },
     "execution_count": 11,
     "metadata": {},
     "output_type": "execute_result"
    }
   ],
   "source": [
    "key_resolutions[:10]"
   ]
  },
  {
   "cell_type": "code",
   "execution_count": 12,
   "id": "c25a1280-58d1-4d1d-9295-56dfa3584d0e",
   "metadata": {
    "execution": {
     "iopub.execute_input": "2024-12-17T14:42:57.026853Z",
     "iopub.status.busy": "2024-12-17T14:42:57.026211Z",
     "iopub.status.idle": "2024-12-17T14:42:57.052347Z",
     "shell.execute_reply": "2024-12-17T14:42:57.051417Z",
     "shell.execute_reply.started": "2024-12-17T14:42:57.026818Z"
    }
   },
   "outputs": [],
   "source": [
    "df[\"key_issue\"] = key_issues\n",
    "df[\"key_resolution\"] = key_resolutions"
   ]
  },
  {
   "cell_type": "code",
   "execution_count": 13,
   "id": "2963ee5d-92ba-4431-9f14-2f8402e397b3",
   "metadata": {
    "execution": {
     "iopub.execute_input": "2024-12-17T14:42:58.297165Z",
     "iopub.status.busy": "2024-12-17T14:42:58.296125Z",
     "iopub.status.idle": "2024-12-17T14:42:58.316215Z",
     "shell.execute_reply": "2024-12-17T14:42:58.315670Z",
     "shell.execute_reply.started": "2024-12-17T14:42:58.297089Z"
    }
   },
   "outputs": [],
   "source": [
    "df_distilled = df[[\"id\", \"key_issue\", \"key_resolution\"]]\n",
    "df_distilled = df_distilled.rename(columns={\"id\": \"conversation_id\"})"
   ]
  },
  {
   "cell_type": "code",
   "execution_count": 14,
   "id": "b4ff2bb1-b04c-48bf-b286-4d15a604a59b",
   "metadata": {
    "execution": {
     "iopub.execute_input": "2024-12-17T14:43:00.731743Z",
     "iopub.status.busy": "2024-12-17T14:43:00.731102Z",
     "iopub.status.idle": "2024-12-17T14:43:00.753747Z",
     "shell.execute_reply": "2024-12-17T14:43:00.752992Z",
     "shell.execute_reply.started": "2024-12-17T14:43:00.731703Z"
    }
   },
   "outputs": [],
   "source": [
    "df_distilled.to_csv(\"data/distilled.csv\", index=False)"
   ]
  },
  {
   "cell_type": "markdown",
   "id": "ceadc26a-c423-4ccb-a51e-fdb11d0ca519",
   "metadata": {},
   "source": [
    "## Tag Refinement"
   ]
  },
  {
   "cell_type": "markdown",
   "id": "67c519b5-b0bc-48f5-a16d-2b2ecbc74b68",
   "metadata": {},
   "source": [
    "### Generation\n",
    "Have to perform the generation and assignment separately because of a bug caused by hugingface_hub used by BERTopic "
   ]
  },
  {
   "cell_type": "code",
   "execution_count": 1,
   "id": "840d15f0-66d1-4007-b7bb-f43cca85e04c",
   "metadata": {
    "execution": {
     "iopub.execute_input": "2024-12-17T14:43:10.760687Z",
     "iopub.status.busy": "2024-12-17T14:43:10.760456Z",
     "iopub.status.idle": "2024-12-17T14:43:17.254505Z",
     "shell.execute_reply": "2024-12-17T14:43:17.254057Z",
     "shell.execute_reply.started": "2024-12-17T14:43:10.760672Z"
    }
   },
   "outputs": [],
   "source": [
    "import pandas as pd\n",
    "import google.generativeai as genai\n",
    "import os\n",
    "from tqdm.notebook import tqdm\n",
    "from joblib import Parallel, delayed\n",
    "from bertopic import BERTopic\n",
    "import numpy as np"
   ]
  },
  {
   "cell_type": "code",
   "execution_count": 2,
   "id": "30ce4eeb-f325-4733-a969-6ee5c8b0d2ce",
   "metadata": {
    "execution": {
     "iopub.execute_input": "2024-12-17T14:43:17.255312Z",
     "iopub.status.busy": "2024-12-17T14:43:17.255066Z",
     "iopub.status.idle": "2024-12-17T14:43:17.257318Z",
     "shell.execute_reply": "2024-12-17T14:43:17.257090Z",
     "shell.execute_reply.started": "2024-12-17T14:43:17.255298Z"
    }
   },
   "outputs": [],
   "source": [
    "genai.configure(api_key=os.environ[\"GEMINI_API_KEY\"])\n",
    "model = genai.GenerativeModel(\"gemini-1.5-flash\")"
   ]
  },
  {
   "cell_type": "code",
   "execution_count": 3,
   "id": "9b368f80-5dcd-4b2b-b646-8842d73aaa9f",
   "metadata": {
    "execution": {
     "iopub.execute_input": "2024-12-17T14:43:17.257864Z",
     "iopub.status.busy": "2024-12-17T14:43:17.257770Z",
     "iopub.status.idle": "2024-12-17T14:43:17.280484Z",
     "shell.execute_reply": "2024-12-17T14:43:17.280206Z",
     "shell.execute_reply.started": "2024-12-17T14:43:17.257853Z"
    }
   },
   "outputs": [
    {
     "name": "stdout",
     "output_type": "stream",
     "text": [
      "2347\n"
     ]
    },
    {
     "data": {
      "text/html": [
       "<div>\n",
       "<style scoped>\n",
       "    .dataframe tbody tr th:only-of-type {\n",
       "        vertical-align: middle;\n",
       "    }\n",
       "\n",
       "    .dataframe tbody tr th {\n",
       "        vertical-align: top;\n",
       "    }\n",
       "\n",
       "    .dataframe thead th {\n",
       "        text-align: right;\n",
       "    }\n",
       "</style>\n",
       "<table border=\"1\" class=\"dataframe\">\n",
       "  <thead>\n",
       "    <tr style=\"text-align: right;\">\n",
       "      <th></th>\n",
       "      <th>id</th>\n",
       "      <th>text</th>\n",
       "      <th>tag</th>\n",
       "    </tr>\n",
       "  </thead>\n",
       "  <tbody>\n",
       "    <tr>\n",
       "      <th>0</th>\n",
       "      <td>0</td>\n",
       "      <td>Agent: Hi, this is Kevin from Holland and Barr...</td>\n",
       "      <td>store closing hours</td>\n",
       "    </tr>\n",
       "    <tr>\n",
       "      <th>1</th>\n",
       "      <td>1</td>\n",
       "      <td>Agent: Good morning, Holland and Barrett custo...</td>\n",
       "      <td>repeat purchases</td>\n",
       "    </tr>\n",
       "    <tr>\n",
       "      <th>2</th>\n",
       "      <td>2</td>\n",
       "      <td>Agent: Hi, thank you for contacting Holland an...</td>\n",
       "      <td>supplement advice</td>\n",
       "    </tr>\n",
       "    <tr>\n",
       "      <th>3</th>\n",
       "      <td>3</td>\n",
       "      <td>Agent: Hello, Holland &amp; Barrett customer suppo...</td>\n",
       "      <td>staff interaction</td>\n",
       "    </tr>\n",
       "    <tr>\n",
       "      <th>4</th>\n",
       "      <td>4</td>\n",
       "      <td>Agent: Thank you for calling Holland &amp; Barrett...</td>\n",
       "      <td>hair products</td>\n",
       "    </tr>\n",
       "  </tbody>\n",
       "</table>\n",
       "</div>"
      ],
      "text/plain": [
       "   id                                               text                  tag\n",
       "0   0  Agent: Hi, this is Kevin from Holland and Barr...  store closing hours\n",
       "1   1  Agent: Good morning, Holland and Barrett custo...     repeat purchases\n",
       "2   2  Agent: Hi, thank you for contacting Holland an...    supplement advice\n",
       "3   3  Agent: Hello, Holland & Barrett customer suppo...    staff interaction\n",
       "4   4  Agent: Thank you for calling Holland & Barrett...        hair products"
      ]
     },
     "execution_count": 3,
     "metadata": {},
     "output_type": "execute_result"
    }
   ],
   "source": [
    "df = pd.read_csv(\"data/data-v1.csv\")\n",
    "print(len(df))\n",
    "df.head()"
   ]
  },
  {
   "cell_type": "code",
   "execution_count": 4,
   "id": "46d59847-6cce-47b8-9e92-f38a71789b42",
   "metadata": {
    "execution": {
     "iopub.execute_input": "2024-12-17T14:43:20.681199Z",
     "iopub.status.busy": "2024-12-17T14:43:20.680165Z",
     "iopub.status.idle": "2024-12-17T14:43:20.687712Z",
     "shell.execute_reply": "2024-12-17T14:43:20.686342Z",
     "shell.execute_reply.started": "2024-12-17T14:43:20.681122Z"
    }
   },
   "outputs": [],
   "source": [
    "topic_model = BERTopic()"
   ]
  },
  {
   "cell_type": "code",
   "execution_count": 6,
   "id": "64667931-d050-4aae-abc0-5ee69d6b95f1",
   "metadata": {
    "execution": {
     "iopub.execute_input": "2024-12-17T14:43:58.115545Z",
     "iopub.status.busy": "2024-12-17T14:43:58.114604Z",
     "iopub.status.idle": "2024-12-17T14:44:43.419069Z",
     "shell.execute_reply": "2024-12-17T14:44:43.418434Z",
     "shell.execute_reply.started": "2024-12-17T14:43:58.115462Z"
    }
   },
   "outputs": [
    {
     "name": "stderr",
     "output_type": "stream",
     "text": [
      "OMP: Info #276: omp_set_nested routine deprecated, please use omp_set_max_active_levels instead.\n"
     ]
    },
    {
     "name": "stdout",
     "output_type": "stream",
     "text": [
      "CPU times: user 2min 18s, sys: 23.5 s, total: 2min 42s\n",
      "Wall time: 45.3 s\n"
     ]
    },
    {
     "data": {
      "text/plain": [
       "(2347, 61)"
      ]
     },
     "execution_count": 6,
     "metadata": {},
     "output_type": "execute_result"
    }
   ],
   "source": [
    "%%time\n",
    "topics, probs = topic_model.fit_transform(df.text)\n",
    "topics = np.array(topics)\n",
    "\n",
    "df_topics = topic_model.get_topic_info().iloc[1:]\n",
    "len(topics), len(df_topics)"
   ]
  },
  {
   "cell_type": "code",
   "execution_count": 7,
   "id": "2520e8b0-152d-4c8c-9a3b-260c9131f138",
   "metadata": {
    "execution": {
     "iopub.execute_input": "2024-12-17T14:44:43.420547Z",
     "iopub.status.busy": "2024-12-17T14:44:43.420260Z",
     "iopub.status.idle": "2024-12-17T14:44:43.423667Z",
     "shell.execute_reply": "2024-12-17T14:44:43.423056Z",
     "shell.execute_reply.started": "2024-12-17T14:44:43.420534Z"
    }
   },
   "outputs": [],
   "source": [
    "def get_topic_name(generated_name, sample_docs):\n",
    "    prompt = f\"For the given generated topic name from a topic clustering system and sample docs from that topic, suggest one short topic name. \\nGenerated Name: {generated_name} \\n Sample Docs: {''.join(sample_docs)}\"\n",
    "    response = model.generate_content(prompt)\n",
    "    return response.text.strip()"
   ]
  },
  {
   "cell_type": "code",
   "execution_count": 8,
   "id": "c6eb1717-7e5d-4f02-9f4d-269daa3e5f40",
   "metadata": {
    "execution": {
     "iopub.execute_input": "2024-12-17T14:44:43.424495Z",
     "iopub.status.busy": "2024-12-17T14:44:43.424404Z",
     "iopub.status.idle": "2024-12-17T14:45:21.502262Z",
     "shell.execute_reply": "2024-12-17T14:45:21.500741Z",
     "shell.execute_reply.started": "2024-12-17T14:44:43.424484Z"
    },
    "scrolled": true
   },
   "outputs": [
    {
     "data": {
      "application/vnd.jupyter.widget-view+json": {
       "model_id": "07ea1923fe774c6f98f61fa772a6eaf4",
       "version_major": 2,
       "version_minor": 0
      },
      "text/plain": [
       "  0%|          | 0/61 [00:00<?, ?it/s]"
      ]
     },
     "metadata": {},
     "output_type": "display_data"
    }
   ],
   "source": [
    "topic_names = []\n",
    "for i in tqdm(range(len(df_topics))):\n",
    "    topic_id, topic_name = int(df_topics.Topic.iloc[i]), df_topics.Name.iloc[i]\n",
    "    topic_names.append(\n",
    "            get_topic_name(\n",
    "                topic_name, \n",
    "                topic_model.get_representative_docs(topic_id)\n",
    "            )\n",
    "        )"
   ]
  },
  {
   "cell_type": "code",
   "execution_count": 9,
   "id": "624faa3c-54f1-4c0c-a4d2-887838b51413",
   "metadata": {
    "execution": {
     "iopub.execute_input": "2024-12-17T14:45:21.506828Z",
     "iopub.status.busy": "2024-12-17T14:45:21.506323Z",
     "iopub.status.idle": "2024-12-17T14:45:21.512926Z",
     "shell.execute_reply": "2024-12-17T14:45:21.511983Z",
     "shell.execute_reply.started": "2024-12-17T14:45:21.506786Z"
    }
   },
   "outputs": [],
   "source": [
    "with open(\"data/topic-names.txt\", 'w') as f:\n",
    "    f.write(\"\\n\".join(topic_names))"
   ]
  },
  {
   "cell_type": "code",
   "execution_count": 11,
   "id": "ac664a50-166c-403d-b845-554ae7d6430a",
   "metadata": {
    "execution": {
     "iopub.execute_input": "2024-12-17T14:45:57.269603Z",
     "iopub.status.busy": "2024-12-17T14:45:57.267428Z",
     "iopub.status.idle": "2024-12-17T14:45:57.280214Z",
     "shell.execute_reply": "2024-12-17T14:45:57.279300Z",
     "shell.execute_reply.started": "2024-12-17T14:45:57.269481Z"
    },
    "scrolled": true
   },
   "outputs": [],
   "source": [
    "df[\"topic_id\"] = topics"
   ]
  },
  {
   "cell_type": "code",
   "execution_count": 12,
   "id": "16179803-8033-4dc8-a7c6-64c5f17b3715",
   "metadata": {
    "execution": {
     "iopub.execute_input": "2024-12-17T14:45:58.402200Z",
     "iopub.status.busy": "2024-12-17T14:45:58.401390Z",
     "iopub.status.idle": "2024-12-17T14:45:58.416509Z",
     "shell.execute_reply": "2024-12-17T14:45:58.415840Z",
     "shell.execute_reply.started": "2024-12-17T14:45:58.402132Z"
    }
   },
   "outputs": [],
   "source": [
    "df_topics = df[[\"id\", \"topic_id\"]]\n",
    "df_topics = df_topics.rename(columns={\"id\": \"conversation_id\"})"
   ]
  },
  {
   "cell_type": "code",
   "execution_count": 13,
   "id": "f2d2825b-e2c6-4bd0-aa78-312da46b86a5",
   "metadata": {
    "execution": {
     "iopub.execute_input": "2024-12-17T14:45:59.010154Z",
     "iopub.status.busy": "2024-12-17T14:45:59.009366Z",
     "iopub.status.idle": "2024-12-17T14:45:59.026235Z",
     "shell.execute_reply": "2024-12-17T14:45:59.025469Z",
     "shell.execute_reply.started": "2024-12-17T14:45:59.010100Z"
    }
   },
   "outputs": [],
   "source": [
    "df_topics.to_csv(\"data/topics.csv\", index=False)"
   ]
  },
  {
   "cell_type": "markdown",
   "id": "397d00be-6c2d-48a2-bf40-b3b707ca3bea",
   "metadata": {},
   "source": [
    "### Assignment"
   ]
  },
  {
   "cell_type": "code",
   "execution_count": 3,
   "id": "9a7c38af-7882-4054-9dbf-c0846d2ce54f",
   "metadata": {
    "execution": {
     "iopub.execute_input": "2024-12-17T15:03:27.740396Z",
     "iopub.status.busy": "2024-12-17T15:03:27.739681Z",
     "iopub.status.idle": "2024-12-17T15:03:28.577518Z",
     "shell.execute_reply": "2024-12-17T15:03:28.577240Z",
     "shell.execute_reply.started": "2024-12-17T15:03:27.740333Z"
    }
   },
   "outputs": [],
   "source": [
    "import pandas as pd\n",
    "import google.generativeai as genai\n",
    "import os\n",
    "from tqdm.notebook import tqdm\n",
    "from joblib import Parallel, delayed\n",
    "import numpy as np\n"
   ]
  },
  {
   "cell_type": "code",
   "execution_count": 4,
   "id": "6bf86ce9-267e-42bb-9b1a-4c4dd8881f9a",
   "metadata": {
    "execution": {
     "iopub.execute_input": "2024-12-17T15:03:28.578450Z",
     "iopub.status.busy": "2024-12-17T15:03:28.578226Z",
     "iopub.status.idle": "2024-12-17T15:03:28.580653Z",
     "shell.execute_reply": "2024-12-17T15:03:28.580340Z",
     "shell.execute_reply.started": "2024-12-17T15:03:28.578434Z"
    }
   },
   "outputs": [],
   "source": [
    "genai.configure(api_key=os.environ[\"GEMINI_API_KEY\"])\n",
    "model = genai.GenerativeModel(\"gemini-1.5-flash\")"
   ]
  },
  {
   "cell_type": "code",
   "execution_count": 42,
   "id": "b3948805-7b0e-4fe6-9f0d-e6e439f4f84e",
   "metadata": {
    "execution": {
     "iopub.execute_input": "2024-12-17T15:12:30.667492Z",
     "iopub.status.busy": "2024-12-17T15:12:30.666391Z",
     "iopub.status.idle": "2024-12-17T15:12:30.713342Z",
     "shell.execute_reply": "2024-12-17T15:12:30.713054Z",
     "shell.execute_reply.started": "2024-12-17T15:12:30.667430Z"
    }
   },
   "outputs": [
    {
     "name": "stdout",
     "output_type": "stream",
     "text": [
      "2347\n"
     ]
    },
    {
     "data": {
      "text/html": [
       "<div>\n",
       "<style scoped>\n",
       "    .dataframe tbody tr th:only-of-type {\n",
       "        vertical-align: middle;\n",
       "    }\n",
       "\n",
       "    .dataframe tbody tr th {\n",
       "        vertical-align: top;\n",
       "    }\n",
       "\n",
       "    .dataframe thead th {\n",
       "        text-align: right;\n",
       "    }\n",
       "</style>\n",
       "<table border=\"1\" class=\"dataframe\">\n",
       "  <thead>\n",
       "    <tr style=\"text-align: right;\">\n",
       "      <th></th>\n",
       "      <th>id</th>\n",
       "      <th>text</th>\n",
       "      <th>tag</th>\n",
       "    </tr>\n",
       "  </thead>\n",
       "  <tbody>\n",
       "    <tr>\n",
       "      <th>0</th>\n",
       "      <td>0</td>\n",
       "      <td>Agent: Hi, this is Kevin from Holland and Barr...</td>\n",
       "      <td>store closing hours</td>\n",
       "    </tr>\n",
       "    <tr>\n",
       "      <th>1</th>\n",
       "      <td>1</td>\n",
       "      <td>Agent: Good morning, Holland and Barrett custo...</td>\n",
       "      <td>repeat purchases</td>\n",
       "    </tr>\n",
       "    <tr>\n",
       "      <th>2</th>\n",
       "      <td>2</td>\n",
       "      <td>Agent: Hi, thank you for contacting Holland an...</td>\n",
       "      <td>supplement advice</td>\n",
       "    </tr>\n",
       "    <tr>\n",
       "      <th>3</th>\n",
       "      <td>3</td>\n",
       "      <td>Agent: Hello, Holland &amp; Barrett customer suppo...</td>\n",
       "      <td>staff interaction</td>\n",
       "    </tr>\n",
       "    <tr>\n",
       "      <th>4</th>\n",
       "      <td>4</td>\n",
       "      <td>Agent: Thank you for calling Holland &amp; Barrett...</td>\n",
       "      <td>hair products</td>\n",
       "    </tr>\n",
       "  </tbody>\n",
       "</table>\n",
       "</div>"
      ],
      "text/plain": [
       "   id                                               text                  tag\n",
       "0   0  Agent: Hi, this is Kevin from Holland and Barr...  store closing hours\n",
       "1   1  Agent: Good morning, Holland and Barrett custo...     repeat purchases\n",
       "2   2  Agent: Hi, thank you for contacting Holland an...    supplement advice\n",
       "3   3  Agent: Hello, Holland & Barrett customer suppo...    staff interaction\n",
       "4   4  Agent: Thank you for calling Holland & Barrett...        hair products"
      ]
     },
     "execution_count": 42,
     "metadata": {},
     "output_type": "execute_result"
    }
   ],
   "source": [
    "df = pd.read_csv(\"data/data-v1.csv\")\n",
    "print(len(df))\n",
    "df.head()"
   ]
  },
  {
   "cell_type": "code",
   "execution_count": 6,
   "id": "e6242581-6100-4b6c-879b-494a1811c9ca",
   "metadata": {
    "execution": {
     "iopub.execute_input": "2024-12-17T15:03:29.812323Z",
     "iopub.status.busy": "2024-12-17T15:03:29.811484Z",
     "iopub.status.idle": "2024-12-17T15:03:29.820161Z",
     "shell.execute_reply": "2024-12-17T15:03:29.819496Z",
     "shell.execute_reply.started": "2024-12-17T15:03:29.812252Z"
    }
   },
   "outputs": [
    {
     "data": {
      "text/plain": [
       "61"
      ]
     },
     "execution_count": 6,
     "metadata": {},
     "output_type": "execute_result"
    }
   ],
   "source": [
    "with open(\"data/topic-names.txt\") as f:\n",
    "    topic_names = f.read().split('\\n')\n",
    "\n",
    "len(topic_names)"
   ]
  },
  {
   "cell_type": "code",
   "execution_count": 7,
   "id": "7cd12bab-fbda-41a6-ab97-c2f03dcefc96",
   "metadata": {
    "execution": {
     "iopub.execute_input": "2024-12-17T15:03:31.486761Z",
     "iopub.status.busy": "2024-12-17T15:03:31.486060Z",
     "iopub.status.idle": "2024-12-17T15:03:31.501397Z",
     "shell.execute_reply": "2024-12-17T15:03:31.500572Z",
     "shell.execute_reply.started": "2024-12-17T15:03:31.486717Z"
    }
   },
   "outputs": [
    {
     "name": "stdout",
     "output_type": "stream",
     "text": [
      "2347\n"
     ]
    },
    {
     "data": {
      "text/html": [
       "<div>\n",
       "<style scoped>\n",
       "    .dataframe tbody tr th:only-of-type {\n",
       "        vertical-align: middle;\n",
       "    }\n",
       "\n",
       "    .dataframe tbody tr th {\n",
       "        vertical-align: top;\n",
       "    }\n",
       "\n",
       "    .dataframe thead th {\n",
       "        text-align: right;\n",
       "    }\n",
       "</style>\n",
       "<table border=\"1\" class=\"dataframe\">\n",
       "  <thead>\n",
       "    <tr style=\"text-align: right;\">\n",
       "      <th></th>\n",
       "      <th>conversation_id</th>\n",
       "      <th>topic_id</th>\n",
       "    </tr>\n",
       "  </thead>\n",
       "  <tbody>\n",
       "    <tr>\n",
       "      <th>0</th>\n",
       "      <td>0</td>\n",
       "      <td>20</td>\n",
       "    </tr>\n",
       "    <tr>\n",
       "      <th>1</th>\n",
       "      <td>1</td>\n",
       "      <td>-1</td>\n",
       "    </tr>\n",
       "    <tr>\n",
       "      <th>2</th>\n",
       "      <td>2</td>\n",
       "      <td>59</td>\n",
       "    </tr>\n",
       "    <tr>\n",
       "      <th>3</th>\n",
       "      <td>3</td>\n",
       "      <td>48</td>\n",
       "    </tr>\n",
       "    <tr>\n",
       "      <th>4</th>\n",
       "      <td>4</td>\n",
       "      <td>35</td>\n",
       "    </tr>\n",
       "  </tbody>\n",
       "</table>\n",
       "</div>"
      ],
      "text/plain": [
       "   conversation_id  topic_id\n",
       "0                0        20\n",
       "1                1        -1\n",
       "2                2        59\n",
       "3                3        48\n",
       "4                4        35"
      ]
     },
     "execution_count": 7,
     "metadata": {},
     "output_type": "execute_result"
    }
   ],
   "source": [
    "df_topic_ids = pd.read_csv(\"data/topics.csv\")\n",
    "print(len(df_topic_ids))\n",
    "df_topic_ids.head()"
   ]
  },
  {
   "cell_type": "code",
   "execution_count": 8,
   "id": "f5258c85-e77d-42b0-876b-582ca5ad4648",
   "metadata": {
    "execution": {
     "iopub.execute_input": "2024-12-17T15:03:32.601569Z",
     "iopub.status.busy": "2024-12-17T15:03:32.600640Z",
     "iopub.status.idle": "2024-12-17T15:03:32.609725Z",
     "shell.execute_reply": "2024-12-17T15:03:32.608602Z",
     "shell.execute_reply.started": "2024-12-17T15:03:32.601493Z"
    }
   },
   "outputs": [
    {
     "data": {
      "text/plain": [
       "2347"
      ]
     },
     "execution_count": 8,
     "metadata": {},
     "output_type": "execute_result"
    }
   ],
   "source": [
    "topics = df_topic_ids.topic_id.tolist()\n",
    "len(topics)"
   ]
  },
  {
   "cell_type": "code",
   "execution_count": 15,
   "id": "a5ab23a2-4d2d-414a-a635-d162fb1af382",
   "metadata": {
    "execution": {
     "iopub.execute_input": "2024-12-17T15:06:30.483317Z",
     "iopub.status.busy": "2024-12-17T15:06:30.481791Z",
     "iopub.status.idle": "2024-12-17T15:06:30.492432Z",
     "shell.execute_reply": "2024-12-17T15:06:30.491644Z",
     "shell.execute_reply.started": "2024-12-17T15:06:30.483200Z"
    }
   },
   "outputs": [],
   "source": [
    "def get_updated_tag(text, old_tag, topic_names, topic_id):\n",
    "    if topic_id == -1:\n",
    "        return old_tag\n",
    "    prompt = f\"Given the following conversation between a customer and support agent: {text}\\n Choose the better fit as a tag for the conversation between {old_tag} and {topic_names[topic_id]}. Only response with the selected answer\"\n",
    "    response = model.generate_content(prompt)\n",
    "    return response.text.strip()"
   ]
  },
  {
   "cell_type": "code",
   "execution_count": 20,
   "id": "9adb7822-4392-44b8-b36b-6e9eb50418c0",
   "metadata": {
    "execution": {
     "iopub.execute_input": "2024-12-17T15:07:45.284367Z",
     "iopub.status.busy": "2024-12-17T15:07:45.283415Z",
     "iopub.status.idle": "2024-12-17T15:08:49.538058Z",
     "shell.execute_reply": "2024-12-17T15:08:49.536258Z",
     "shell.execute_reply.started": "2024-12-17T15:07:45.284293Z"
    }
   },
   "outputs": [
    {
     "data": {
      "application/vnd.jupyter.widget-view+json": {
       "model_id": "467af42054524b8199b38db9a2177f9d",
       "version_major": 2,
       "version_minor": 0
      },
      "text/plain": [
       "  0%|          | 0/2347 [00:00<?, ?it/s]"
      ]
     },
     "metadata": {},
     "output_type": "display_data"
    }
   ],
   "source": [
    "final_tags = Parallel(n_jobs=16, backend=\"loky\")(\n",
    "    delayed(get_updated_tag)(\n",
    "        df.iloc[i].text, \n",
    "        df.iloc[i].tag, \n",
    "        topic_names, \n",
    "        topics[i]\n",
    "    ) for i in tqdm(range(len(df)))\n",
    ")"
   ]
  },
  {
   "cell_type": "code",
   "execution_count": 44,
   "id": "f0b342c3-d975-4046-9f77-2ea1a061320e",
   "metadata": {
    "execution": {
     "iopub.execute_input": "2024-12-17T15:12:44.718479Z",
     "iopub.status.busy": "2024-12-17T15:12:44.717278Z",
     "iopub.status.idle": "2024-12-17T15:12:44.727000Z",
     "shell.execute_reply": "2024-12-17T15:12:44.726164Z",
     "shell.execute_reply.started": "2024-12-17T15:12:44.718398Z"
    },
    "scrolled": true
   },
   "outputs": [],
   "source": [
    "df[\"updated_tag\"] = final_tags"
   ]
  },
  {
   "cell_type": "code",
   "execution_count": 45,
   "id": "98450bd5-f5ae-414a-961c-466539fb94ba",
   "metadata": {
    "execution": {
     "iopub.execute_input": "2024-12-17T15:12:47.166761Z",
     "iopub.status.busy": "2024-12-17T15:12:47.165815Z",
     "iopub.status.idle": "2024-12-17T15:12:47.181129Z",
     "shell.execute_reply": "2024-12-17T15:12:47.180437Z",
     "shell.execute_reply.started": "2024-12-17T15:12:47.166705Z"
    }
   },
   "outputs": [],
   "source": [
    "df_updated_tag = df[[\"id\", \"tag\"]]\n",
    "df_updated_tag = df_updated_tag.rename(columns={\"id\": \"conversation_id\", \"updated_tag\": \"tag\"})"
   ]
  },
  {
   "cell_type": "code",
   "execution_count": 23,
   "id": "fe90e21a-c129-4640-a0fd-43591ef8ed26",
   "metadata": {
    "execution": {
     "iopub.execute_input": "2024-12-17T15:08:49.563800Z",
     "iopub.status.busy": "2024-12-17T15:08:49.563625Z",
     "iopub.status.idle": "2024-12-17T15:08:49.579340Z",
     "shell.execute_reply": "2024-12-17T15:08:49.578864Z",
     "shell.execute_reply.started": "2024-12-17T15:08:49.563782Z"
    }
   },
   "outputs": [],
   "source": [
    "df_updated_tag.to_csv(\"data/tag-updated.csv\", index=False)"
   ]
  },
  {
   "cell_type": "code",
   "execution_count": null,
   "id": "ea923aa9-9ad1-4eda-b013-8c4b2b8cab2a",
   "metadata": {},
   "outputs": [],
   "source": []
  }
 ],
 "metadata": {
  "kernelspec": {
   "display_name": "Python 3 (ipykernel)",
   "language": "python",
   "name": "python3"
  },
  "language_info": {
   "codemirror_mode": {
    "name": "ipython",
    "version": 3
   },
   "file_extension": ".py",
   "mimetype": "text/x-python",
   "name": "python",
   "nbconvert_exporter": "python",
   "pygments_lexer": "ipython3",
   "version": "3.9.12"
  }
 },
 "nbformat": 4,
 "nbformat_minor": 5
}
